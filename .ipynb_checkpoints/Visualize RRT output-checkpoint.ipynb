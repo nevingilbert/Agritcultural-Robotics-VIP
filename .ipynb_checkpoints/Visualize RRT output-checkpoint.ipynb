{
 "cells": [
  {
   "cell_type": "code",
   "execution_count": 1,
   "metadata": {},
   "outputs": [
    {
     "data": {
      "image/png": "[encoded data removed]",
      "text/plain": [
       "<PIL.Image.Image image mode=RGB size=512x512 at 0x7F39D03A0B00>"
      ]
     },
     "execution_count": 1,
     "metadata": {},
     "output_type": "execute_result"
    }
   ],
   "source": [
    "import pickle\n",
    "res, image = pickle.load(open('../VIP/get_remoteAPI/v0output_maze.pkl', 'rb'))\n",
    "import numpy as np\n",
    "rgb_image = np.reshape(image, (res[0], res[1], 3))\n",
    "from PIL import Image\n",
    "new_image = Image.fromarray(np.array(rgb_image, dtype=np.uint8))\n",
    "new_image"
   ]
  },
  {
   "cell_type": "code",
   "execution_count": 2,
   "metadata": {},
   "outputs": [],
   "source": [
    "distance_matrix_rtt = pickle.load(open('distance_matrix.pkl','rb'))"
   ]
  },
  {
   "cell_type": "code",
   "execution_count": 3,
   "metadata": {},
   "outputs": [
    {
     "data": {
      "text/plain": [
       "(451, 145)"
      ]
     },
     "execution_count": 3,
     "metadata": {},
     "output_type": "execute_result"
    }
   ],
   "source": [
    "list(distance_matrix_rtt.keys())[0]"
   ]
  },
  {
   "cell_type": "code",
   "execution_count": 4,
   "metadata": {},
   "outputs": [
    {
     "name": "stdout",
     "output_type": "stream",
     "text": [
      "(451, 145)\n",
      "(296, 33)\n",
      "(416, 173)\n",
      "(475, 139)\n"
     ]
    }
   ],
   "source": [
    "for p1 in list(distance_matrix_rtt.keys())[:1]:\n",
    "    print(p1)\n",
    "    for p2 in list(distance_matrix_rtt[p1].keys()):\n",
    "        print(p2)\n",
    "        if p2.x != p1.x:\n",
    "            if p1.x == 0:\n",
    "                b = p1.y\n",
    "                a = (p2.y-p1.y)/p2.x\n",
    "            else:\n",
    "                b = (p2.y*p1.x - p1.y*p2.x)/(p1.x-p2.x)\n",
    "                a = (p1.y-b)/p1.x\n",
    "#             rate = abs(p2.y-p1.y) / abs(p2.x-p1.x)\n",
    "            for x in range(min(p1.x,p2.x), max(p1.x,p2.x)):\n",
    "                y = int(a*x+b)\n",
    "                if x < 512 and y < 512:\n",
    "                    rgb_image[x][y] = (999,999,999)\n",
    "        else:\n",
    "            for y in range(min(p1.y,p2.y), min(p1.y,p2.y)):\n",
    "                if y < 512:\n",
    "#                     rgb_image[p1.x][y] = (999,999,999)\n",
    "#         rgb_image[p2.x][p2.y] = (0,999,0)\n",
    "#     rgb_image[p1.x][p1.y] = (999,0,0)"
   ]
  },
  {
   "cell_type": "code",
   "execution_count": 5,
   "metadata": {},
   "outputs": [
    {
     "data": {
      "image/png": "[encoded data removed]",
      "text/plain": [
       "<PIL.Image.Image image mode=RGB size=512x512 at 0x7F399F9E77F0>"
      ]
     },
     "execution_count": 5,
     "metadata": {},
     "output_type": "execute_result"
    }
   ],
   "source": [
    "new_image = Image.fromarray(np.array(rgb_image, dtype=np.uint8))\n",
    "new_image"
   ]
  }
 ],
 "metadata": {
  "kernelspec": {
   "display_name": "Python 3",
   "language": "python",
   "name": "python3"
  },
  "language_info": {
   "codemirror_mode": {
    "name": "ipython",
    "version": 3
   },
   "file_extension": ".py",
   "mimetype": "text/x-python",
   "name": "python",
   "nbconvert_exporter": "python",
   "pygments_lexer": "ipython3",
   "version": "3.6.9"
  }
 },
 "nbformat": 4,
 "nbformat_minor": 4
}
